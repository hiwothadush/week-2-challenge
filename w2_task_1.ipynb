{
  "nbformat": 4,
  "nbformat_minor": 0,
  "metadata": {
    "colab": {
      "provenance": [],
      "mount_file_id": "1LDpjtaUNHUMDfGpN3hwao90goybE-R_u",
      "authorship_tag": "ABX9TyMeB3/fGJ558qst00mKAEwX"
    },
    "kernelspec": {
      "name": "python3",
      "display_name": "Python 3"
    },
    "language_info": {
      "name": "python"
    }
  },
  "cells": [
    {
      "cell_type": "code",
      "source": [
        "import pandas as pd\n",
        "import matplotlib.pyplot as plt\n",
        "import seaborn as sns\n",
        "import numpy as np"
      ],
      "metadata": {
        "id": "ZrqEDGPZ1Vtl"
      },
      "execution_count": 1,
      "outputs": []
    },
    {
      "cell_type": "code",
      "execution_count": null,
      "metadata": {
        "id": "c5FpWd2aSqQb",
        "outputId": "c38ba21e-bfbc-49c1-c9a1-e2e4eac7ddc4",
        "colab": {
          "base_uri": "https://localhost:8080/"
        }
      },
      "outputs": [
        {
          "output_type": "stream",
          "name": "stdout",
          "text": [
            "Collecting psycopg2-binary\n",
            "  Downloading psycopg2_binary-2.9.10-cp310-cp310-manylinux_2_17_x86_64.manylinux2014_x86_64.whl.metadata (4.9 kB)\n",
            "Downloading psycopg2_binary-2.9.10-cp310-cp310-manylinux_2_17_x86_64.manylinux2014_x86_64.whl (3.0 MB)\n",
            "\u001b[?25l   \u001b[90m━━━━━━━━━━━━━━━━━━━━━━━━━━━━━━━━━━━━━━━━\u001b[0m \u001b[32m0.0/3.0 MB\u001b[0m \u001b[31m?\u001b[0m eta \u001b[36m-:--:--\u001b[0m\r\u001b[2K   \u001b[91m━━━━\u001b[0m\u001b[91m╸\u001b[0m\u001b[90m━━━━━━━━━━━━━━━━━━━━━━━━━━━━━━━━━━━\u001b[0m \u001b[32m0.4/3.0 MB\u001b[0m \u001b[31m10.4 MB/s\u001b[0m eta \u001b[36m0:00:01\u001b[0m\r\u001b[2K   \u001b[91m━━━━━━━━━━━━━━━━━━━━━━━━━━━━━━━━━━━━━━━\u001b[0m\u001b[91m╸\u001b[0m \u001b[32m3.0/3.0 MB\u001b[0m \u001b[31m43.5 MB/s\u001b[0m eta \u001b[36m0:00:01\u001b[0m\r\u001b[2K   \u001b[90m━━━━━━━━━━━━━━━━━━━━━━━━━━━━━━━━━━━━━━━━\u001b[0m \u001b[32m3.0/3.0 MB\u001b[0m \u001b[31m30.3 MB/s\u001b[0m eta \u001b[36m0:00:00\u001b[0m\n",
            "\u001b[?25hInstalling collected packages: psycopg2-binary\n",
            "Successfully installed psycopg2-binary-2.9.10\n"
          ]
        }
      ],
      "source": [
        "!pip install psycopg2-binary"
      ]
    },
    {
      "cell_type": "code",
      "source": [
        "!pip install mysql-connector-python"
      ],
      "metadata": {
        "id": "yVbkguWmJ5lc",
        "colab": {
          "base_uri": "https://localhost:8080/"
        },
        "outputId": "190bb22c-76b0-41d2-89c5-62aadd4ceedd"
      },
      "execution_count": null,
      "outputs": [
        {
          "output_type": "stream",
          "name": "stdout",
          "text": [
            "Collecting mysql-connector-python\n",
            "  Downloading mysql_connector_python-9.1.0-cp310-cp310-manylinux_2_28_x86_64.whl.metadata (6.0 kB)\n",
            "Downloading mysql_connector_python-9.1.0-cp310-cp310-manylinux_2_28_x86_64.whl (34.4 MB)\n",
            "\u001b[2K   \u001b[90m━━━━━━━━━━━━━━━━━━━━━━━━━━━━━━━━━━━━━━━━\u001b[0m \u001b[32m34.4/34.4 MB\u001b[0m \u001b[31m35.7 MB/s\u001b[0m eta \u001b[36m0:00:00\u001b[0m\n",
            "\u001b[?25hInstalling collected packages: mysql-connector-python\n",
            "Successfully installed mysql-connector-python-9.1.0\n"
          ]
        }
      ]
    },
    {
      "cell_type": "code",
      "source": [
        "!pip install mysql-connector-python"
      ],
      "metadata": {
        "id": "eipYHWQ_mzyD",
        "colab": {
          "base_uri": "https://localhost:8080/"
        },
        "outputId": "a67576af-9c08-49bc-8544-0fef658908e4"
      },
      "execution_count": null,
      "outputs": [
        {
          "output_type": "stream",
          "name": "stdout",
          "text": [
            "Collecting mysql-connector-python\n",
            "  Downloading mysql_connector_python-9.1.0-cp310-cp310-manylinux_2_28_x86_64.whl.metadata (6.0 kB)\n",
            "Downloading mysql_connector_python-9.1.0-cp310-cp310-manylinux_2_28_x86_64.whl (34.4 MB)\n",
            "\u001b[2K   \u001b[90m━━━━━━━━━━━━━━━━━━━━━━━━━━━━━━━━━━━━━━━━\u001b[0m \u001b[32m34.4/34.4 MB\u001b[0m \u001b[31m45.9 MB/s\u001b[0m eta \u001b[36m0:00:00\u001b[0m\n",
            "\u001b[?25hInstalling collected packages: mysql-connector-python\n",
            "Successfully installed mysql-connector-python-9.1.0\n"
          ]
        }
      ]
    },
    {
      "cell_type": "code",
      "source": [
        "!pip install psycopg2 sqlalchemy"
      ],
      "metadata": {
        "colab": {
          "base_uri": "https://localhost:8080/"
        },
        "id": "SMlfk9zek0uu",
        "outputId": "ea788256-dd1a-4637-dcba-021343606d3b"
      },
      "execution_count": 2,
      "outputs": [
        {
          "output_type": "stream",
          "name": "stdout",
          "text": [
            "Requirement already satisfied: psycopg2 in /usr/local/lib/python3.10/dist-packages (2.9.10)\n",
            "Requirement already satisfied: sqlalchemy in /usr/local/lib/python3.10/dist-packages (2.0.36)\n",
            "Requirement already satisfied: typing-extensions>=4.6.0 in /usr/local/lib/python3.10/dist-packages (from sqlalchemy) (4.12.2)\n",
            "Requirement already satisfied: greenlet!=0.4.17 in /usr/local/lib/python3.10/dist-packages (from sqlalchemy) (3.1.1)\n"
          ]
        }
      ]
    },
    {
      "cell_type": "code",
      "source": [
        "from sqlalchemy import create_engine\n",
        "\n",
        "# Database connection details\n",
        "db_user = 'postgres'\n",
        "db_password = '5633'\n",
        "db_host = 'localhost'\n",
        "db_port = '5432'\n",
        "db_name = 'telecom'\n",
        "\n",
        "# Create connection string\n",
        "connection_string = f'postgresql://{db_user}:{db_password}@{db_host}:{db_port}/{db_name}'\n",
        "\n",
        "# Create the engine\n",
        "try:\n",
        "    engine = create_engine(connection_string)\n",
        "    print(\"Connection to the database was successful!\")\n",
        "except Exception as e:\n",
        "    print(\"Error connecting to the database:\", e)\n",
        "\n"
      ],
      "metadata": {
        "colab": {
          "base_uri": "https://localhost:8080/"
        },
        "id": "KVi69LCezTQY",
        "outputId": "f518be45-ad59-4c5d-b76d-f45094c6e8f1"
      },
      "execution_count": 10,
      "outputs": [
        {
          "output_type": "stream",
          "name": "stdout",
          "text": [
            "Connection to the database was successful!\n"
          ]
        }
      ]
    },
    {
      "cell_type": "code",
      "source": [
        "'''\n",
        "#table to query\n",
        "\n",
        "df = pd.read_sql(\"SELECT * FROM xdr_data\", engine)\n",
        "print(df.head())\n",
        "\n",
        "'''"
      ],
      "metadata": {
        "colab": {
          "base_uri": "https://localhost:8080/",
          "height": 36
        },
        "id": "Lh63nn2wz5uy",
        "outputId": "5af6cf4c-45b2-4610-dc96-e504a4980a01"
      },
      "execution_count": 15,
      "outputs": [
        {
          "output_type": "execute_result",
          "data": {
            "text/plain": [
              "'\\n#table to query\\n\\ndf = pd.read_sql(\"SELECT * FROM xdr_data\", engine)\\nprint(df.head())\\n\\n'"
            ],
            "application/vnd.google.colaboratory.intrinsic+json": {
              "type": "string"
            }
          },
          "metadata": {},
          "execution_count": 15
        }
      ]
    },
    {
      "cell_type": "code",
      "source": [
        "df = pd.read_csv('/content/drive/MyDrive/xdr_data.csv')\n",
        "df.head()"
      ],
      "metadata": {
        "colab": {
          "base_uri": "https://localhost:8080/",
          "height": 377
        },
        "id": "LJOYRFrT0MTr",
        "outputId": "41c84d19-f571-48a2-c944-b7edea35d819"
      },
      "execution_count": 16,
      "outputs": [
        {
          "output_type": "execute_result",
          "data": {
            "text/plain": [
              "      Bearer Id            Start  Start ms              End  End ms  \\\n",
              "0  1.311448e+19   4/4/2019 12:01     770.0  4/25/2019 14:35   662.0   \n",
              "1  1.311448e+19   4/9/2019 13:04     235.0   4/25/2019 8:15   606.0   \n",
              "2  1.311448e+19   4/9/2019 17:42       1.0  4/25/2019 11:58   652.0   \n",
              "3  1.311448e+19   4/10/2019 0:31     486.0   4/25/2019 7:36   171.0   \n",
              "4  1.311448e+19  4/12/2019 20:10     565.0  4/25/2019 10:40   954.0   \n",
              "\n",
              "   Dur. (ms)          IMSI  MSISDN/Number          IMEI  \\\n",
              "0  1823652.0  2.082014e+14   3.366496e+10  3.552121e+13   \n",
              "1  1365104.0  2.082019e+14   3.368185e+10  3.579401e+13   \n",
              "2  1361762.0  2.082003e+14   3.376063e+10  3.528151e+13   \n",
              "3  1321509.0  2.082014e+14   3.375034e+10  3.535661e+13   \n",
              "4  1089009.0  2.082014e+14   3.369980e+10  3.540701e+13   \n",
              "\n",
              "      Last Location Name  ...  Youtube DL (Bytes)  Youtube UL (Bytes)  \\\n",
              "0  9.16456699548519E+015  ...          15854611.0           2501332.0   \n",
              "1                L77566A  ...          20247395.0          19111729.0   \n",
              "2                D42335A  ...          19725661.0          14699576.0   \n",
              "3                T21824A  ...          21388122.0          15146643.0   \n",
              "4                D88865A  ...          15259380.0          18962873.0   \n",
              "\n",
              "   Netflix DL (Bytes)  Netflix UL (Bytes)  Gaming DL (Bytes)  \\\n",
              "0           8198936.0           9656251.0        278082303.0   \n",
              "1          18338413.0          17227132.0        608750074.0   \n",
              "2          17587794.0           6163408.0        229584621.0   \n",
              "3          13994646.0           1097942.0        799538153.0   \n",
              "4          17124581.0            415218.0        527707248.0   \n",
              "\n",
              "   Gaming UL (Bytes)  Other DL (Bytes)  Other UL (Bytes)  Total UL (Bytes)  \\\n",
              "0         14344150.0       171744450.0         8814393.0        36749741.0   \n",
              "1          1170709.0       526904238.0        15055145.0        53800391.0   \n",
              "2           395630.0       410692588.0         4215763.0        27883638.0   \n",
              "3         10849722.0       749039933.0        12797283.0        43324218.0   \n",
              "4          3529801.0       550709500.0        13910322.0        38542814.0   \n",
              "\n",
              "   Total DL (Bytes)  \n",
              "0       308879636.0  \n",
              "1       653384965.0  \n",
              "2       279807335.0  \n",
              "3       846028530.0  \n",
              "4       569138589.0  \n",
              "\n",
              "[5 rows x 55 columns]"
            ],
            "text/html": [
              "\n",
              "  <div id=\"df-0fa97450-3854-4569-a66d-e761e5ac8fb3\" class=\"colab-df-container\">\n",
              "    <div>\n",
              "<style scoped>\n",
              "    .dataframe tbody tr th:only-of-type {\n",
              "        vertical-align: middle;\n",
              "    }\n",
              "\n",
              "    .dataframe tbody tr th {\n",
              "        vertical-align: top;\n",
              "    }\n",
              "\n",
              "    .dataframe thead th {\n",
              "        text-align: right;\n",
              "    }\n",
              "</style>\n",
              "<table border=\"1\" class=\"dataframe\">\n",
              "  <thead>\n",
              "    <tr style=\"text-align: right;\">\n",
              "      <th></th>\n",
              "      <th>Bearer Id</th>\n",
              "      <th>Start</th>\n",
              "      <th>Start ms</th>\n",
              "      <th>End</th>\n",
              "      <th>End ms</th>\n",
              "      <th>Dur. (ms)</th>\n",
              "      <th>IMSI</th>\n",
              "      <th>MSISDN/Number</th>\n",
              "      <th>IMEI</th>\n",
              "      <th>Last Location Name</th>\n",
              "      <th>...</th>\n",
              "      <th>Youtube DL (Bytes)</th>\n",
              "      <th>Youtube UL (Bytes)</th>\n",
              "      <th>Netflix DL (Bytes)</th>\n",
              "      <th>Netflix UL (Bytes)</th>\n",
              "      <th>Gaming DL (Bytes)</th>\n",
              "      <th>Gaming UL (Bytes)</th>\n",
              "      <th>Other DL (Bytes)</th>\n",
              "      <th>Other UL (Bytes)</th>\n",
              "      <th>Total UL (Bytes)</th>\n",
              "      <th>Total DL (Bytes)</th>\n",
              "    </tr>\n",
              "  </thead>\n",
              "  <tbody>\n",
              "    <tr>\n",
              "      <th>0</th>\n",
              "      <td>1.311448e+19</td>\n",
              "      <td>4/4/2019 12:01</td>\n",
              "      <td>770.0</td>\n",
              "      <td>4/25/2019 14:35</td>\n",
              "      <td>662.0</td>\n",
              "      <td>1823652.0</td>\n",
              "      <td>2.082014e+14</td>\n",
              "      <td>3.366496e+10</td>\n",
              "      <td>3.552121e+13</td>\n",
              "      <td>9.16456699548519E+015</td>\n",
              "      <td>...</td>\n",
              "      <td>15854611.0</td>\n",
              "      <td>2501332.0</td>\n",
              "      <td>8198936.0</td>\n",
              "      <td>9656251.0</td>\n",
              "      <td>278082303.0</td>\n",
              "      <td>14344150.0</td>\n",
              "      <td>171744450.0</td>\n",
              "      <td>8814393.0</td>\n",
              "      <td>36749741.0</td>\n",
              "      <td>308879636.0</td>\n",
              "    </tr>\n",
              "    <tr>\n",
              "      <th>1</th>\n",
              "      <td>1.311448e+19</td>\n",
              "      <td>4/9/2019 13:04</td>\n",
              "      <td>235.0</td>\n",
              "      <td>4/25/2019 8:15</td>\n",
              "      <td>606.0</td>\n",
              "      <td>1365104.0</td>\n",
              "      <td>2.082019e+14</td>\n",
              "      <td>3.368185e+10</td>\n",
              "      <td>3.579401e+13</td>\n",
              "      <td>L77566A</td>\n",
              "      <td>...</td>\n",
              "      <td>20247395.0</td>\n",
              "      <td>19111729.0</td>\n",
              "      <td>18338413.0</td>\n",
              "      <td>17227132.0</td>\n",
              "      <td>608750074.0</td>\n",
              "      <td>1170709.0</td>\n",
              "      <td>526904238.0</td>\n",
              "      <td>15055145.0</td>\n",
              "      <td>53800391.0</td>\n",
              "      <td>653384965.0</td>\n",
              "    </tr>\n",
              "    <tr>\n",
              "      <th>2</th>\n",
              "      <td>1.311448e+19</td>\n",
              "      <td>4/9/2019 17:42</td>\n",
              "      <td>1.0</td>\n",
              "      <td>4/25/2019 11:58</td>\n",
              "      <td>652.0</td>\n",
              "      <td>1361762.0</td>\n",
              "      <td>2.082003e+14</td>\n",
              "      <td>3.376063e+10</td>\n",
              "      <td>3.528151e+13</td>\n",
              "      <td>D42335A</td>\n",
              "      <td>...</td>\n",
              "      <td>19725661.0</td>\n",
              "      <td>14699576.0</td>\n",
              "      <td>17587794.0</td>\n",
              "      <td>6163408.0</td>\n",
              "      <td>229584621.0</td>\n",
              "      <td>395630.0</td>\n",
              "      <td>410692588.0</td>\n",
              "      <td>4215763.0</td>\n",
              "      <td>27883638.0</td>\n",
              "      <td>279807335.0</td>\n",
              "    </tr>\n",
              "    <tr>\n",
              "      <th>3</th>\n",
              "      <td>1.311448e+19</td>\n",
              "      <td>4/10/2019 0:31</td>\n",
              "      <td>486.0</td>\n",
              "      <td>4/25/2019 7:36</td>\n",
              "      <td>171.0</td>\n",
              "      <td>1321509.0</td>\n",
              "      <td>2.082014e+14</td>\n",
              "      <td>3.375034e+10</td>\n",
              "      <td>3.535661e+13</td>\n",
              "      <td>T21824A</td>\n",
              "      <td>...</td>\n",
              "      <td>21388122.0</td>\n",
              "      <td>15146643.0</td>\n",
              "      <td>13994646.0</td>\n",
              "      <td>1097942.0</td>\n",
              "      <td>799538153.0</td>\n",
              "      <td>10849722.0</td>\n",
              "      <td>749039933.0</td>\n",
              "      <td>12797283.0</td>\n",
              "      <td>43324218.0</td>\n",
              "      <td>846028530.0</td>\n",
              "    </tr>\n",
              "    <tr>\n",
              "      <th>4</th>\n",
              "      <td>1.311448e+19</td>\n",
              "      <td>4/12/2019 20:10</td>\n",
              "      <td>565.0</td>\n",
              "      <td>4/25/2019 10:40</td>\n",
              "      <td>954.0</td>\n",
              "      <td>1089009.0</td>\n",
              "      <td>2.082014e+14</td>\n",
              "      <td>3.369980e+10</td>\n",
              "      <td>3.540701e+13</td>\n",
              "      <td>D88865A</td>\n",
              "      <td>...</td>\n",
              "      <td>15259380.0</td>\n",
              "      <td>18962873.0</td>\n",
              "      <td>17124581.0</td>\n",
              "      <td>415218.0</td>\n",
              "      <td>527707248.0</td>\n",
              "      <td>3529801.0</td>\n",
              "      <td>550709500.0</td>\n",
              "      <td>13910322.0</td>\n",
              "      <td>38542814.0</td>\n",
              "      <td>569138589.0</td>\n",
              "    </tr>\n",
              "  </tbody>\n",
              "</table>\n",
              "<p>5 rows × 55 columns</p>\n",
              "</div>\n",
              "    <div class=\"colab-df-buttons\">\n",
              "\n",
              "  <div class=\"colab-df-container\">\n",
              "    <button class=\"colab-df-convert\" onclick=\"convertToInteractive('df-0fa97450-3854-4569-a66d-e761e5ac8fb3')\"\n",
              "            title=\"Convert this dataframe to an interactive table.\"\n",
              "            style=\"display:none;\">\n",
              "\n",
              "  <svg xmlns=\"http://www.w3.org/2000/svg\" height=\"24px\" viewBox=\"0 -960 960 960\">\n",
              "    <path d=\"M120-120v-720h720v720H120Zm60-500h600v-160H180v160Zm220 220h160v-160H400v160Zm0 220h160v-160H400v160ZM180-400h160v-160H180v160Zm440 0h160v-160H620v160ZM180-180h160v-160H180v160Zm440 0h160v-160H620v160Z\"/>\n",
              "  </svg>\n",
              "    </button>\n",
              "\n",
              "  <style>\n",
              "    .colab-df-container {\n",
              "      display:flex;\n",
              "      gap: 12px;\n",
              "    }\n",
              "\n",
              "    .colab-df-convert {\n",
              "      background-color: #E8F0FE;\n",
              "      border: none;\n",
              "      border-radius: 50%;\n",
              "      cursor: pointer;\n",
              "      display: none;\n",
              "      fill: #1967D2;\n",
              "      height: 32px;\n",
              "      padding: 0 0 0 0;\n",
              "      width: 32px;\n",
              "    }\n",
              "\n",
              "    .colab-df-convert:hover {\n",
              "      background-color: #E2EBFA;\n",
              "      box-shadow: 0px 1px 2px rgba(60, 64, 67, 0.3), 0px 1px 3px 1px rgba(60, 64, 67, 0.15);\n",
              "      fill: #174EA6;\n",
              "    }\n",
              "\n",
              "    .colab-df-buttons div {\n",
              "      margin-bottom: 4px;\n",
              "    }\n",
              "\n",
              "    [theme=dark] .colab-df-convert {\n",
              "      background-color: #3B4455;\n",
              "      fill: #D2E3FC;\n",
              "    }\n",
              "\n",
              "    [theme=dark] .colab-df-convert:hover {\n",
              "      background-color: #434B5C;\n",
              "      box-shadow: 0px 1px 3px 1px rgba(0, 0, 0, 0.15);\n",
              "      filter: drop-shadow(0px 1px 2px rgba(0, 0, 0, 0.3));\n",
              "      fill: #FFFFFF;\n",
              "    }\n",
              "  </style>\n",
              "\n",
              "    <script>\n",
              "      const buttonEl =\n",
              "        document.querySelector('#df-0fa97450-3854-4569-a66d-e761e5ac8fb3 button.colab-df-convert');\n",
              "      buttonEl.style.display =\n",
              "        google.colab.kernel.accessAllowed ? 'block' : 'none';\n",
              "\n",
              "      async function convertToInteractive(key) {\n",
              "        const element = document.querySelector('#df-0fa97450-3854-4569-a66d-e761e5ac8fb3');\n",
              "        const dataTable =\n",
              "          await google.colab.kernel.invokeFunction('convertToInteractive',\n",
              "                                                    [key], {});\n",
              "        if (!dataTable) return;\n",
              "\n",
              "        const docLinkHtml = 'Like what you see? Visit the ' +\n",
              "          '<a target=\"_blank\" href=https://colab.research.google.com/notebooks/data_table.ipynb>data table notebook</a>'\n",
              "          + ' to learn more about interactive tables.';\n",
              "        element.innerHTML = '';\n",
              "        dataTable['output_type'] = 'display_data';\n",
              "        await google.colab.output.renderOutput(dataTable, element);\n",
              "        const docLink = document.createElement('div');\n",
              "        docLink.innerHTML = docLinkHtml;\n",
              "        element.appendChild(docLink);\n",
              "      }\n",
              "    </script>\n",
              "  </div>\n",
              "\n",
              "\n",
              "<div id=\"df-5252825f-c4f2-4c5e-95f3-510a5ca82e0b\">\n",
              "  <button class=\"colab-df-quickchart\" onclick=\"quickchart('df-5252825f-c4f2-4c5e-95f3-510a5ca82e0b')\"\n",
              "            title=\"Suggest charts\"\n",
              "            style=\"display:none;\">\n",
              "\n",
              "<svg xmlns=\"http://www.w3.org/2000/svg\" height=\"24px\"viewBox=\"0 0 24 24\"\n",
              "     width=\"24px\">\n",
              "    <g>\n",
              "        <path d=\"M19 3H5c-1.1 0-2 .9-2 2v14c0 1.1.9 2 2 2h14c1.1 0 2-.9 2-2V5c0-1.1-.9-2-2-2zM9 17H7v-7h2v7zm4 0h-2V7h2v10zm4 0h-2v-4h2v4z\"/>\n",
              "    </g>\n",
              "</svg>\n",
              "  </button>\n",
              "\n",
              "<style>\n",
              "  .colab-df-quickchart {\n",
              "      --bg-color: #E8F0FE;\n",
              "      --fill-color: #1967D2;\n",
              "      --hover-bg-color: #E2EBFA;\n",
              "      --hover-fill-color: #174EA6;\n",
              "      --disabled-fill-color: #AAA;\n",
              "      --disabled-bg-color: #DDD;\n",
              "  }\n",
              "\n",
              "  [theme=dark] .colab-df-quickchart {\n",
              "      --bg-color: #3B4455;\n",
              "      --fill-color: #D2E3FC;\n",
              "      --hover-bg-color: #434B5C;\n",
              "      --hover-fill-color: #FFFFFF;\n",
              "      --disabled-bg-color: #3B4455;\n",
              "      --disabled-fill-color: #666;\n",
              "  }\n",
              "\n",
              "  .colab-df-quickchart {\n",
              "    background-color: var(--bg-color);\n",
              "    border: none;\n",
              "    border-radius: 50%;\n",
              "    cursor: pointer;\n",
              "    display: none;\n",
              "    fill: var(--fill-color);\n",
              "    height: 32px;\n",
              "    padding: 0;\n",
              "    width: 32px;\n",
              "  }\n",
              "\n",
              "  .colab-df-quickchart:hover {\n",
              "    background-color: var(--hover-bg-color);\n",
              "    box-shadow: 0 1px 2px rgba(60, 64, 67, 0.3), 0 1px 3px 1px rgba(60, 64, 67, 0.15);\n",
              "    fill: var(--button-hover-fill-color);\n",
              "  }\n",
              "\n",
              "  .colab-df-quickchart-complete:disabled,\n",
              "  .colab-df-quickchart-complete:disabled:hover {\n",
              "    background-color: var(--disabled-bg-color);\n",
              "    fill: var(--disabled-fill-color);\n",
              "    box-shadow: none;\n",
              "  }\n",
              "\n",
              "  .colab-df-spinner {\n",
              "    border: 2px solid var(--fill-color);\n",
              "    border-color: transparent;\n",
              "    border-bottom-color: var(--fill-color);\n",
              "    animation:\n",
              "      spin 1s steps(1) infinite;\n",
              "  }\n",
              "\n",
              "  @keyframes spin {\n",
              "    0% {\n",
              "      border-color: transparent;\n",
              "      border-bottom-color: var(--fill-color);\n",
              "      border-left-color: var(--fill-color);\n",
              "    }\n",
              "    20% {\n",
              "      border-color: transparent;\n",
              "      border-left-color: var(--fill-color);\n",
              "      border-top-color: var(--fill-color);\n",
              "    }\n",
              "    30% {\n",
              "      border-color: transparent;\n",
              "      border-left-color: var(--fill-color);\n",
              "      border-top-color: var(--fill-color);\n",
              "      border-right-color: var(--fill-color);\n",
              "    }\n",
              "    40% {\n",
              "      border-color: transparent;\n",
              "      border-right-color: var(--fill-color);\n",
              "      border-top-color: var(--fill-color);\n",
              "    }\n",
              "    60% {\n",
              "      border-color: transparent;\n",
              "      border-right-color: var(--fill-color);\n",
              "    }\n",
              "    80% {\n",
              "      border-color: transparent;\n",
              "      border-right-color: var(--fill-color);\n",
              "      border-bottom-color: var(--fill-color);\n",
              "    }\n",
              "    90% {\n",
              "      border-color: transparent;\n",
              "      border-bottom-color: var(--fill-color);\n",
              "    }\n",
              "  }\n",
              "</style>\n",
              "\n",
              "  <script>\n",
              "    async function quickchart(key) {\n",
              "      const quickchartButtonEl =\n",
              "        document.querySelector('#' + key + ' button');\n",
              "      quickchartButtonEl.disabled = true;  // To prevent multiple clicks.\n",
              "      quickchartButtonEl.classList.add('colab-df-spinner');\n",
              "      try {\n",
              "        const charts = await google.colab.kernel.invokeFunction(\n",
              "            'suggestCharts', [key], {});\n",
              "      } catch (error) {\n",
              "        console.error('Error during call to suggestCharts:', error);\n",
              "      }\n",
              "      quickchartButtonEl.classList.remove('colab-df-spinner');\n",
              "      quickchartButtonEl.classList.add('colab-df-quickchart-complete');\n",
              "    }\n",
              "    (() => {\n",
              "      let quickchartButtonEl =\n",
              "        document.querySelector('#df-5252825f-c4f2-4c5e-95f3-510a5ca82e0b button');\n",
              "      quickchartButtonEl.style.display =\n",
              "        google.colab.kernel.accessAllowed ? 'block' : 'none';\n",
              "    })();\n",
              "  </script>\n",
              "</div>\n",
              "\n",
              "    </div>\n",
              "  </div>\n"
            ],
            "application/vnd.google.colaboratory.intrinsic+json": {
              "type": "dataframe",
              "variable_name": "df"
            }
          },
          "metadata": {},
          "execution_count": 16
        }
      ]
    },
    {
      "cell_type": "code",
      "source": [
        "df.columns"
      ],
      "metadata": {
        "colab": {
          "base_uri": "https://localhost:8080/"
        },
        "id": "mIw7pHafAZmi",
        "outputId": "628e48b0-e958-46d2-ac74-f710a6349a26"
      },
      "execution_count": 17,
      "outputs": [
        {
          "output_type": "execute_result",
          "data": {
            "text/plain": [
              "Index(['Bearer Id', 'Start', 'Start ms', 'End', 'End ms', 'Dur. (ms)', 'IMSI',\n",
              "       'MSISDN/Number', 'IMEI', 'Last Location Name', 'Avg RTT DL (ms)',\n",
              "       'Avg RTT UL (ms)', 'Avg Bearer TP DL (kbps)', 'Avg Bearer TP UL (kbps)',\n",
              "       'TCP DL Retrans. Vol (Bytes)', 'TCP UL Retrans. Vol (Bytes)',\n",
              "       'DL TP < 50 Kbps (%)', '50 Kbps < DL TP < 250 Kbps (%)',\n",
              "       '250 Kbps < DL TP < 1 Mbps (%)', 'DL TP > 1 Mbps (%)',\n",
              "       'UL TP < 10 Kbps (%)', '10 Kbps < UL TP < 50 Kbps (%)',\n",
              "       '50 Kbps < UL TP < 300 Kbps (%)', 'UL TP > 300 Kbps (%)',\n",
              "       'HTTP DL (Bytes)', 'HTTP UL (Bytes)', 'Activity Duration DL (ms)',\n",
              "       'Activity Duration UL (ms)', 'Dur. (ms).1', 'Handset Manufacturer',\n",
              "       'Handset Type', 'Nb of sec with 125000B < Vol DL',\n",
              "       'Nb of sec with 1250B < Vol UL < 6250B',\n",
              "       'Nb of sec with 31250B < Vol DL < 125000B',\n",
              "       'Nb of sec with 37500B < Vol UL',\n",
              "       'Nb of sec with 6250B < Vol DL < 31250B',\n",
              "       'Nb of sec with 6250B < Vol UL < 37500B',\n",
              "       'Nb of sec with Vol DL < 6250B', 'Nb of sec with Vol UL < 1250B',\n",
              "       'Social Media DL (Bytes)', 'Social Media UL (Bytes)',\n",
              "       'Google DL (Bytes)', 'Google UL (Bytes)', 'Email DL (Bytes)',\n",
              "       'Email UL (Bytes)', 'Youtube DL (Bytes)', 'Youtube UL (Bytes)',\n",
              "       'Netflix DL (Bytes)', 'Netflix UL (Bytes)', 'Gaming DL (Bytes)',\n",
              "       'Gaming UL (Bytes)', 'Other DL (Bytes)', 'Other UL (Bytes)',\n",
              "       'Total UL (Bytes)', 'Total DL (Bytes)'],\n",
              "      dtype='object')"
            ]
          },
          "metadata": {},
          "execution_count": 17
        }
      ]
    },
    {
      "cell_type": "code",
      "source": [
        "#user overviwe analysis\n",
        "#the top 10 handsets used by the customers\n",
        "# Group by 'handset_type', count occurrences, and sort in descending order\n",
        "top_handsets = df['Handset Type'].value_counts().head(10)\n",
        "\n",
        "print(\"Top 10 Handsets Used by Customers:\")\n",
        "print(top_handsets)"
      ],
      "metadata": {
        "colab": {
          "base_uri": "https://localhost:8080/"
        },
        "id": "lVVtEjEv9LX8",
        "outputId": "73a3edcf-e49f-421c-f9de-ce2f44f1a6b9"
      },
      "execution_count": 18,
      "outputs": [
        {
          "output_type": "stream",
          "name": "stdout",
          "text": [
            "Top 10 Handsets Used by Customers:\n",
            "Handset Type\n",
            "Huawei B528S-23A                19752\n",
            "Apple iPhone 6S (A1688)          9419\n",
            "Apple iPhone 6 (A1586)           9023\n",
            "undefined                        8987\n",
            "Apple iPhone 7 (A1778)           6326\n",
            "Apple iPhone Se (A1723)          5187\n",
            "Apple iPhone 8 (A1905)           4993\n",
            "Apple iPhone Xr (A2105)          4568\n",
            "Samsung Galaxy S8 (Sm-G950F)     4520\n",
            "Apple iPhone X (A1901)           3813\n",
            "Name: count, dtype: int64\n"
          ]
        }
      ]
    },
    {
      "cell_type": "code",
      "source": [
        "#the top 3 handset manufacturers\n",
        "top_handset_manufacturers = df['Handset Manufacturer'].value_counts().head(3)\n",
        "\n",
        "print(\"Top 3 Handset Manufacturers:\")\n",
        "print(top_handset_manufacturers)"
      ],
      "metadata": {
        "colab": {
          "base_uri": "https://localhost:8080/"
        },
        "id": "aXGuNCuiAeFA",
        "outputId": "c6e87b2a-4705-43de-d73c-e28831fce158"
      },
      "execution_count": 19,
      "outputs": [
        {
          "output_type": "stream",
          "name": "stdout",
          "text": [
            "Top 3 Handset Manufacturers:\n",
            "Handset Manufacturer\n",
            "Apple      59565\n",
            "Samsung    40839\n",
            "Huawei     34423\n",
            "Name: count, dtype: int64\n"
          ]
        }
      ]
    },
    {
      "cell_type": "code",
      "source": [
        "#identify the top 5 handsets per top 3 handset manufacturer\n",
        "# Filter the dataset for Apple handsets\n",
        "for manufacturer in top_handset_manufacturers.index:\n",
        "  manufacturer_data = df[df['Handset Manufacturer'] == manufacturer]\n",
        "  manufacturer_handsets_count = manufacturer_data ['Handset Type'].value_counts().head()\n",
        "  print(f\"Handset Type Counts for {manufacturer}: {manufacturer_handsets_count}\")"
      ],
      "metadata": {
        "colab": {
          "base_uri": "https://localhost:8080/"
        },
        "id": "NRV7Am3FA_g9",
        "outputId": "0c7c75fb-1bb0-47fc-9824-0a0c89ea66ea"
      },
      "execution_count": 31,
      "outputs": [
        {
          "output_type": "stream",
          "name": "stdout",
          "text": [
            "Handset Type Counts for Apple: Handset Type\n",
            "Apple iPhone 6S (A1688)    9419\n",
            "Apple iPhone 6 (A1586)     9023\n",
            "Apple iPhone 7 (A1778)     6326\n",
            "Apple iPhone Se (A1723)    5187\n",
            "Apple iPhone 8 (A1905)     4993\n",
            "Name: count, dtype: int64\n",
            "Handset Type Counts for Samsung: Handset Type\n",
            "Samsung Galaxy S8 (Sm-G950F)    4520\n",
            "Samsung Galaxy A5 Sm-A520F      3724\n",
            "Samsung Galaxy J5 (Sm-J530)     3696\n",
            "Samsung Galaxy J3 (Sm-J330)     3484\n",
            "Samsung Galaxy S7 (Sm-G930X)    3199\n",
            "Name: count, dtype: int64\n",
            "Handset Type Counts for Huawei: Handset Type\n",
            "Huawei B528S-23A                  19752\n",
            "Huawei E5180                       2079\n",
            "Huawei P20 Lite Huawei Nova 3E     2021\n",
            "Huawei P20                         1480\n",
            "Huawei Y6 2018                      997\n",
            "Name: count, dtype: int64\n"
          ]
        }
      ]
    },
    {
      "cell_type": "code",
      "source": [
        "# Check for missing or null values in the critical columns\n",
        "print(df.isnull().sum())"
      ],
      "metadata": {
        "colab": {
          "base_uri": "https://localhost:8080/"
        },
        "id": "K8HphVN1Clu2",
        "outputId": "b1c95703-1815-4815-b6c6-44c7304e1e77"
      },
      "execution_count": 32,
      "outputs": [
        {
          "output_type": "stream",
          "name": "stdout",
          "text": [
            "Bearer Id                                      991\n",
            "Start                                            1\n",
            "Start ms                                         1\n",
            "End                                              1\n",
            "End ms                                           1\n",
            "Dur. (ms)                                        1\n",
            "IMSI                                           570\n",
            "MSISDN/Number                                 1066\n",
            "IMEI                                           572\n",
            "Last Location Name                            1153\n",
            "Avg RTT DL (ms)                              27829\n",
            "Avg RTT UL (ms)                              27812\n",
            "Avg Bearer TP DL (kbps)                          1\n",
            "Avg Bearer TP UL (kbps)                          1\n",
            "TCP DL Retrans. Vol (Bytes)                  88146\n",
            "TCP UL Retrans. Vol (Bytes)                  96649\n",
            "DL TP < 50 Kbps (%)                            754\n",
            "50 Kbps < DL TP < 250 Kbps (%)                 754\n",
            "250 Kbps < DL TP < 1 Mbps (%)                  754\n",
            "DL TP > 1 Mbps (%)                             754\n",
            "UL TP < 10 Kbps (%)                            792\n",
            "10 Kbps < UL TP < 50 Kbps (%)                  792\n",
            "50 Kbps < UL TP < 300 Kbps (%)                 792\n",
            "UL TP > 300 Kbps (%)                           792\n",
            "HTTP DL (Bytes)                              81474\n",
            "HTTP UL (Bytes)                              81810\n",
            "Activity Duration DL (ms)                        1\n",
            "Activity Duration UL (ms)                        1\n",
            "Dur. (ms).1                                      1\n",
            "Handset Manufacturer                           572\n",
            "Handset Type                                   572\n",
            "Nb of sec with 125000B < Vol DL              97538\n",
            "Nb of sec with 1250B < Vol UL < 6250B        92894\n",
            "Nb of sec with 31250B < Vol DL < 125000B     93586\n",
            "Nb of sec with 37500B < Vol UL              130254\n",
            "Nb of sec with 6250B < Vol DL < 31250B       88317\n",
            "Nb of sec with 6250B < Vol UL < 37500B      111843\n",
            "Nb of sec with Vol DL < 6250B                  755\n",
            "Nb of sec with Vol UL < 1250B                  793\n",
            "Social Media DL (Bytes)                          0\n",
            "Social Media UL (Bytes)                          0\n",
            "Google DL (Bytes)                                0\n",
            "Google UL (Bytes)                                0\n",
            "Email DL (Bytes)                                 0\n",
            "Email UL (Bytes)                                 0\n",
            "Youtube DL (Bytes)                               0\n",
            "Youtube UL (Bytes)                               0\n",
            "Netflix DL (Bytes)                               0\n",
            "Netflix UL (Bytes)                               0\n",
            "Gaming DL (Bytes)                                0\n",
            "Gaming UL (Bytes)                                0\n",
            "Other DL (Bytes)                                 0\n",
            "Other UL (Bytes)                                 0\n",
            "Total UL (Bytes)                                 1\n",
            "Total DL (Bytes)                                 1\n",
            "dtype: int64\n"
          ]
        }
      ]
    },
    {
      "cell_type": "code",
      "source": [
        "# Step 1: Aggregate per user\n",
        "aggregated_data = df.groupby('IMEI').agg(\n",
        "    number_of_xdr_sessions=('IMEI', 'count'),\n",
        "    total_session_duration=('Dur. (ms)', 'sum'),\n",
        "    total_download_data=('Total DL (Bytes)', 'sum'),\n",
        "    total_upload_data=('Total UL (Bytes)', 'sum'),\n",
        "    total_social_media_dl=('Social Media DL (Bytes)', 'sum'),\n",
        "    total_social_media_ul=('Social Media UL (Bytes)', 'sum'),\n",
        "    total_google_dl=('Google DL (Bytes)', 'sum'),\n",
        "    total_google_ul=('Google UL (Bytes)', 'sum'),\n",
        "    total_youtube_dl=('Youtube DL (Bytes)', 'sum'),\n",
        "    total_youtube_ul=('Youtube UL (Bytes)', 'sum'),\n",
        "    total_netflix_dl=('Netflix DL (Bytes)', 'sum'),\n",
        "    total_netflix_ul=('Netflix UL (Bytes)', 'sum'),\n",
        "    total_gaming_dl=('Gaming DL (Bytes)', 'sum'),\n",
        "    total_gaming_ul=('Gaming UL (Bytes)', 'sum'),\n",
        "    total_other_dl=('Other DL (Bytes)', 'sum'),\n",
        "    total_other_ul=('Other UL (Bytes)', 'sum')\n",
        ").reset_index()\n",
        "\n",
        "# Display the aggregated data\n",
        "print(aggregated_data.head())\n"
      ],
      "metadata": {
        "colab": {
          "base_uri": "https://localhost:8080/"
        },
        "id": "dvRYXhtDSOn6",
        "outputId": "a93339c1-55d4-45ef-84be-7dc559af8740"
      },
      "execution_count": 34,
      "outputs": [
        {
          "output_type": "stream",
          "name": "stdout",
          "text": [
            "           IMEI  number_of_xdr_sessions  total_session_duration  \\\n",
            "0  4.400152e+11                       1                 74399.0   \n",
            "1  4.402138e+11                       1                 86399.0   \n",
            "2  1.194901e+12                       1                 87799.0   \n",
            "3  1.198201e+12                       1                 56344.0   \n",
            "4  1.202601e+12                       1                 18004.0   \n",
            "\n",
            "   total_download_data  total_upload_data  total_social_media_dl  \\\n",
            "0          196385061.0         39425114.0              2530606.0   \n",
            "1          133661264.0         24856321.0              1301037.0   \n",
            "2          858892798.0         44409558.0              3440702.0   \n",
            "3          791029122.0         54841047.0              2155310.0   \n",
            "4          795829234.0         38070613.0               356443.0   \n",
            "\n",
            "   total_social_media_ul  total_google_dl  total_google_ul  total_youtube_dl  \\\n",
            "0                23968.0        9125569.0        3608143.0        17663991.0   \n",
            "1                10391.0        8520422.0        1514991.0        16138988.0   \n",
            "2                21582.0        8410141.0        1073199.0        11564842.0   \n",
            "3                47026.0        5157701.0        1790556.0        17902177.0   \n",
            "4                40729.0        5895854.0        1209943.0        14930167.0   \n",
            "\n",
            "   total_youtube_ul  total_netflix_dl  total_netflix_ul  total_gaming_dl  \\\n",
            "0        10703865.0         6289240.0        16570359.0      159786457.0   \n",
            "1         5122393.0        18158139.0         3929179.0       86956751.0   \n",
            "2        12364791.0         6415185.0         7003752.0      827578143.0   \n",
            "3        19542058.0        21142414.0         6731353.0      743030255.0   \n",
            "4         5631939.0         3775834.0        16166734.0      770457035.0   \n",
            "\n",
            "   total_gaming_ul  total_other_dl  total_other_ul  \n",
            "0        1317702.0     312057084.0       7056636.0  \n",
            "1        4188367.0     510810737.0       9402717.0  \n",
            "2       11383285.0      74601835.0      11982162.0  \n",
            "3       11575761.0     805940256.0      15136299.0  \n",
            "4        3537598.0     585417309.0      11060984.0  \n"
          ]
        }
      ]
    },
    {
      "cell_type": "code",
      "source": [],
      "metadata": {
        "id": "S1CVm37OVfjn"
      },
      "execution_count": null,
      "outputs": []
    }
  ]
}